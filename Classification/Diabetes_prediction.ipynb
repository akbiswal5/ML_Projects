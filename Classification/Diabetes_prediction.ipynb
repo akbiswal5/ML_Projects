{
  "nbformat": 4,
  "nbformat_minor": 0,
  "metadata": {
    "colab": {
      "provenance": []
    },
    "kernelspec": {
      "name": "python3",
      "display_name": "Python 3"
    },
    "language_info": {
      "name": "python"
    }
  },
  "cells": [
    {
      "cell_type": "code",
      "execution_count": 1,
      "metadata": {
        "id": "5oKghtuBGRZZ"
      },
      "outputs": [],
      "source": [
        "import numpy as np\n",
        "import pandas as pd\n",
        "from sklearn.model_selection import train_test_split\n",
        "from sklearn import svm\n",
        "from sklearn.metrics import accuracy_score"
      ]
    },
    {
      "cell_type": "code",
      "source": [
        "df=pd.read_csv(\"/content/diabetes.csv\")"
      ],
      "metadata": {
        "id": "ODD18GbhGfhV"
      },
      "execution_count": 2,
      "outputs": []
    },
    {
      "cell_type": "code",
      "source": [
        "df.head()"
      ],
      "metadata": {
        "colab": {
          "base_uri": "https://localhost:8080/",
          "height": 204
        },
        "id": "8-thxpg6Gfkf",
        "outputId": "302e7a7b-76e4-4b2f-d080-d2432b0846a8"
      },
      "execution_count": 3,
      "outputs": [
        {
          "output_type": "execute_result",
          "data": {
            "text/plain": [
              "   Pregnancies  Glucose  BloodPressure  SkinThickness  Insulin   BMI  \\\n",
              "0            6      148             72             35        0  33.6   \n",
              "1            1       85             66             29        0  26.6   \n",
              "2            8      183             64              0        0  23.3   \n",
              "3            1       89             66             23       94  28.1   \n",
              "4            0      137             40             35      168  43.1   \n",
              "\n",
              "   DiabetesPedigreeFunction  Age  Outcome  \n",
              "0                     0.627   50        1  \n",
              "1                     0.351   31        0  \n",
              "2                     0.672   32        1  \n",
              "3                     0.167   21        0  \n",
              "4                     2.288   33        1  "
            ],
            "text/html": [
              "\n",
              "  <div id=\"df-2826bd6a-30ff-4de7-94a9-864c64793b4c\">\n",
              "    <div class=\"colab-df-container\">\n",
              "      <div>\n",
              "<style scoped>\n",
              "    .dataframe tbody tr th:only-of-type {\n",
              "        vertical-align: middle;\n",
              "    }\n",
              "\n",
              "    .dataframe tbody tr th {\n",
              "        vertical-align: top;\n",
              "    }\n",
              "\n",
              "    .dataframe thead th {\n",
              "        text-align: right;\n",
              "    }\n",
              "</style>\n",
              "<table border=\"1\" class=\"dataframe\">\n",
              "  <thead>\n",
              "    <tr style=\"text-align: right;\">\n",
              "      <th></th>\n",
              "      <th>Pregnancies</th>\n",
              "      <th>Glucose</th>\n",
              "      <th>BloodPressure</th>\n",
              "      <th>SkinThickness</th>\n",
              "      <th>Insulin</th>\n",
              "      <th>BMI</th>\n",
              "      <th>DiabetesPedigreeFunction</th>\n",
              "      <th>Age</th>\n",
              "      <th>Outcome</th>\n",
              "    </tr>\n",
              "  </thead>\n",
              "  <tbody>\n",
              "    <tr>\n",
              "      <th>0</th>\n",
              "      <td>6</td>\n",
              "      <td>148</td>\n",
              "      <td>72</td>\n",
              "      <td>35</td>\n",
              "      <td>0</td>\n",
              "      <td>33.6</td>\n",
              "      <td>0.627</td>\n",
              "      <td>50</td>\n",
              "      <td>1</td>\n",
              "    </tr>\n",
              "    <tr>\n",
              "      <th>1</th>\n",
              "      <td>1</td>\n",
              "      <td>85</td>\n",
              "      <td>66</td>\n",
              "      <td>29</td>\n",
              "      <td>0</td>\n",
              "      <td>26.6</td>\n",
              "      <td>0.351</td>\n",
              "      <td>31</td>\n",
              "      <td>0</td>\n",
              "    </tr>\n",
              "    <tr>\n",
              "      <th>2</th>\n",
              "      <td>8</td>\n",
              "      <td>183</td>\n",
              "      <td>64</td>\n",
              "      <td>0</td>\n",
              "      <td>0</td>\n",
              "      <td>23.3</td>\n",
              "      <td>0.672</td>\n",
              "      <td>32</td>\n",
              "      <td>1</td>\n",
              "    </tr>\n",
              "    <tr>\n",
              "      <th>3</th>\n",
              "      <td>1</td>\n",
              "      <td>89</td>\n",
              "      <td>66</td>\n",
              "      <td>23</td>\n",
              "      <td>94</td>\n",
              "      <td>28.1</td>\n",
              "      <td>0.167</td>\n",
              "      <td>21</td>\n",
              "      <td>0</td>\n",
              "    </tr>\n",
              "    <tr>\n",
              "      <th>4</th>\n",
              "      <td>0</td>\n",
              "      <td>137</td>\n",
              "      <td>40</td>\n",
              "      <td>35</td>\n",
              "      <td>168</td>\n",
              "      <td>43.1</td>\n",
              "      <td>2.288</td>\n",
              "      <td>33</td>\n",
              "      <td>1</td>\n",
              "    </tr>\n",
              "  </tbody>\n",
              "</table>\n",
              "</div>\n",
              "      <button class=\"colab-df-convert\" onclick=\"convertToInteractive('df-2826bd6a-30ff-4de7-94a9-864c64793b4c')\"\n",
              "              title=\"Convert this dataframe to an interactive table.\"\n",
              "              style=\"display:none;\">\n",
              "        \n",
              "  <svg xmlns=\"http://www.w3.org/2000/svg\" height=\"24px\"viewBox=\"0 0 24 24\"\n",
              "       width=\"24px\">\n",
              "    <path d=\"M0 0h24v24H0V0z\" fill=\"none\"/>\n",
              "    <path d=\"M18.56 5.44l.94 2.06.94-2.06 2.06-.94-2.06-.94-.94-2.06-.94 2.06-2.06.94zm-11 1L8.5 8.5l.94-2.06 2.06-.94-2.06-.94L8.5 2.5l-.94 2.06-2.06.94zm10 10l.94 2.06.94-2.06 2.06-.94-2.06-.94-.94-2.06-.94 2.06-2.06.94z\"/><path d=\"M17.41 7.96l-1.37-1.37c-.4-.4-.92-.59-1.43-.59-.52 0-1.04.2-1.43.59L10.3 9.45l-7.72 7.72c-.78.78-.78 2.05 0 2.83L4 21.41c.39.39.9.59 1.41.59.51 0 1.02-.2 1.41-.59l7.78-7.78 2.81-2.81c.8-.78.8-2.07 0-2.86zM5.41 20L4 18.59l7.72-7.72 1.47 1.35L5.41 20z\"/>\n",
              "  </svg>\n",
              "      </button>\n",
              "      \n",
              "  <style>\n",
              "    .colab-df-container {\n",
              "      display:flex;\n",
              "      flex-wrap:wrap;\n",
              "      gap: 12px;\n",
              "    }\n",
              "\n",
              "    .colab-df-convert {\n",
              "      background-color: #E8F0FE;\n",
              "      border: none;\n",
              "      border-radius: 50%;\n",
              "      cursor: pointer;\n",
              "      display: none;\n",
              "      fill: #1967D2;\n",
              "      height: 32px;\n",
              "      padding: 0 0 0 0;\n",
              "      width: 32px;\n",
              "    }\n",
              "\n",
              "    .colab-df-convert:hover {\n",
              "      background-color: #E2EBFA;\n",
              "      box-shadow: 0px 1px 2px rgba(60, 64, 67, 0.3), 0px 1px 3px 1px rgba(60, 64, 67, 0.15);\n",
              "      fill: #174EA6;\n",
              "    }\n",
              "\n",
              "    [theme=dark] .colab-df-convert {\n",
              "      background-color: #3B4455;\n",
              "      fill: #D2E3FC;\n",
              "    }\n",
              "\n",
              "    [theme=dark] .colab-df-convert:hover {\n",
              "      background-color: #434B5C;\n",
              "      box-shadow: 0px 1px 3px 1px rgba(0, 0, 0, 0.15);\n",
              "      filter: drop-shadow(0px 1px 2px rgba(0, 0, 0, 0.3));\n",
              "      fill: #FFFFFF;\n",
              "    }\n",
              "  </style>\n",
              "\n",
              "      <script>\n",
              "        const buttonEl =\n",
              "          document.querySelector('#df-2826bd6a-30ff-4de7-94a9-864c64793b4c button.colab-df-convert');\n",
              "        buttonEl.style.display =\n",
              "          google.colab.kernel.accessAllowed ? 'block' : 'none';\n",
              "\n",
              "        async function convertToInteractive(key) {\n",
              "          const element = document.querySelector('#df-2826bd6a-30ff-4de7-94a9-864c64793b4c');\n",
              "          const dataTable =\n",
              "            await google.colab.kernel.invokeFunction('convertToInteractive',\n",
              "                                                     [key], {});\n",
              "          if (!dataTable) return;\n",
              "\n",
              "          const docLinkHtml = 'Like what you see? Visit the ' +\n",
              "            '<a target=\"_blank\" href=https://colab.research.google.com/notebooks/data_table.ipynb>data table notebook</a>'\n",
              "            + ' to learn more about interactive tables.';\n",
              "          element.innerHTML = '';\n",
              "          dataTable['output_type'] = 'display_data';\n",
              "          await google.colab.output.renderOutput(dataTable, element);\n",
              "          const docLink = document.createElement('div');\n",
              "          docLink.innerHTML = docLinkHtml;\n",
              "          element.appendChild(docLink);\n",
              "        }\n",
              "      </script>\n",
              "    </div>\n",
              "  </div>\n",
              "  "
            ]
          },
          "metadata": {},
          "execution_count": 3
        }
      ]
    },
    {
      "cell_type": "code",
      "source": [
        "df.shape"
      ],
      "metadata": {
        "colab": {
          "base_uri": "https://localhost:8080/"
        },
        "id": "pR8Z5uxzGfn4",
        "outputId": "de25ef45-9cc1-41ee-e84d-5b8d4c245d73"
      },
      "execution_count": 4,
      "outputs": [
        {
          "output_type": "execute_result",
          "data": {
            "text/plain": [
              "(768, 9)"
            ]
          },
          "metadata": {},
          "execution_count": 4
        }
      ]
    },
    {
      "cell_type": "code",
      "source": [
        "#0-->Non-diabetic,1-->Diabetic\n",
        "df['Outcome'].value_counts()"
      ],
      "metadata": {
        "colab": {
          "base_uri": "https://localhost:8080/"
        },
        "id": "IkR0MCNuGfq_",
        "outputId": "2ae41268-4604-40df-bc52-527065ed38f6"
      },
      "execution_count": 5,
      "outputs": [
        {
          "output_type": "execute_result",
          "data": {
            "text/plain": [
              "0    500\n",
              "1    268\n",
              "Name: Outcome, dtype: int64"
            ]
          },
          "metadata": {},
          "execution_count": 5
        }
      ]
    },
    {
      "cell_type": "code",
      "source": [
        "import matplotlib.pyplot as plt\n",
        "import seaborn as sns"
      ],
      "metadata": {
        "id": "-uyMvjvyHEDJ"
      },
      "execution_count": 6,
      "outputs": []
    },
    {
      "cell_type": "code",
      "source": [
        "plt.figure(figsize=(12,12))\n",
        "sns.countplot(df['Outcome'])"
      ],
      "metadata": {
        "colab": {
          "base_uri": "https://localhost:8080/",
          "height": 785
        },
        "id": "AhOH0jhrGft3",
        "outputId": "43978add-2b97-42f8-ab5f-17f7afcd1278"
      },
      "execution_count": 7,
      "outputs": [
        {
          "output_type": "stream",
          "name": "stderr",
          "text": [
            "/usr/local/lib/python3.7/dist-packages/seaborn/_decorators.py:43: FutureWarning: Pass the following variable as a keyword arg: x. From version 0.12, the only valid positional argument will be `data`, and passing other arguments without an explicit keyword will result in an error or misinterpretation.\n",
            "  FutureWarning\n"
          ]
        },
        {
          "output_type": "execute_result",
          "data": {
            "text/plain": [
              "<matplotlib.axes._subplots.AxesSubplot at 0x7f79bd87bb10>"
            ]
          },
          "metadata": {},
          "execution_count": 7
        },
        {
          "output_type": "display_data",
          "data": {
            "text/plain": [
              "<Figure size 864x864 with 1 Axes>"
            ],
            "image/png": "[encoded data removed]"
          },
          "metadata": {
            "needs_background": "light"
          }
        }
      ]
    },
    {
      "cell_type": "code",
      "source": [
        "df.describe().style.background_gradient()"
      ],
      "metadata": {
        "colab": {
          "base_uri": "https://localhost:8080/",
          "height": 317
        },
        "id": "chTP-C8LGfwh",
        "outputId": "38938bf8-a80c-409b-977f-6d3fb520336c"
      },
      "execution_count": 9,
      "outputs": [
        {
          "output_type": "execute_result",
          "data": {
            "text/plain": [
              "<pandas.io.formats.style.Styler at 0x7f79bcaf5f10>"
            ],
            "text/html": [
              "<style type=\"text/css\">\n",
              "#T_9af6d_row0_col0, #T_9af6d_row0_col1, #T_9af6d_row0_col2, #T_9af6d_row0_col3, #T_9af6d_row0_col5, #T_9af6d_row0_col6, #T_9af6d_row0_col7, #T_9af6d_row0_col8, #T_9af6d_row7_col4 {\n",
              "  background-color: #023858;\n",
              "  color: #f1f1f1;\n",
              "}\n",
              "#T_9af6d_row0_col4 {\n",
              "  background-color: #03517e;\n",
              "  color: #f1f1f1;\n",
              "}\n",
              "#T_9af6d_row1_col0, #T_9af6d_row2_col0, #T_9af6d_row5_col0 {\n",
              "  background-color: #fef6fb;\n",
              "  color: #000000;\n",
              "}\n",
              "#T_9af6d_row1_col1, #T_9af6d_row7_col2 {\n",
              "  background-color: #e5e1ef;\n",
              "  color: #000000;\n",
              "}\n",
              "#T_9af6d_row1_col2, #T_9af6d_row7_col7 {\n",
              "  background-color: #f1ebf5;\n",
              "  color: #000000;\n",
              "}\n",
              "#T_9af6d_row1_col3, #T_9af6d_row2_col2 {\n",
              "  background-color: #fbf4f9;\n",
              "  color: #000000;\n",
              "}\n",
              "#T_9af6d_row1_col4, #T_9af6d_row5_col2 {\n",
              "  background-color: #f1ebf4;\n",
              "  color: #000000;\n",
              "}\n",
              "#T_9af6d_row1_col5, #T_9af6d_row2_col1, #T_9af6d_row5_col5, #T_9af6d_row6_col3 {\n",
              "  background-color: #f9f2f8;\n",
              "  color: #000000;\n",
              "}\n",
              "#T_9af6d_row1_col6, #T_9af6d_row1_col8, #T_9af6d_row2_col6, #T_9af6d_row2_col7, #T_9af6d_row2_col8, #T_9af6d_row3_col0, #T_9af6d_row3_col1, #T_9af6d_row3_col2, #T_9af6d_row3_col3, #T_9af6d_row3_col4, #T_9af6d_row3_col5, #T_9af6d_row3_col6, #T_9af6d_row3_col8, #T_9af6d_row4_col0, #T_9af6d_row4_col3, #T_9af6d_row4_col4, #T_9af6d_row4_col6, #T_9af6d_row4_col8, #T_9af6d_row5_col6, #T_9af6d_row5_col8, #T_9af6d_row6_col6, #T_9af6d_row6_col8, #T_9af6d_row7_col6, #T_9af6d_row7_col8 {\n",
              "  background-color: #fff7fb;\n",
              "  color: #000000;\n",
              "}\n",
              "#T_9af6d_row1_col7, #T_9af6d_row5_col3 {\n",
              "  background-color: #fbf3f9;\n",
              "  color: #000000;\n",
              "}\n",
              "#T_9af6d_row2_col3, #T_9af6d_row5_col7, #T_9af6d_row7_col0 {\n",
              "  background-color: #fcf4fa;\n",
              "  color: #000000;\n",
              "}\n",
              "#T_9af6d_row2_col4 {\n",
              "  background-color: #eae6f1;\n",
              "  color: #000000;\n",
              "}\n",
              "#T_9af6d_row2_col5, #T_9af6d_row6_col0 {\n",
              "  background-color: #fef6fa;\n",
              "  color: #000000;\n",
              "}\n",
              "#T_9af6d_row3_col7, #T_9af6d_row4_col7 {\n",
              "  background-color: #fdf5fa;\n",
              "  color: #000000;\n",
              "}\n",
              "#T_9af6d_row4_col1, #T_9af6d_row7_col3 {\n",
              "  background-color: #ebe6f2;\n",
              "  color: #000000;\n",
              "}\n",
              "#T_9af6d_row4_col2 {\n",
              "  background-color: #f3edf5;\n",
              "  color: #000000;\n",
              "}\n",
              "#T_9af6d_row4_col5, #T_9af6d_row5_col4, #T_9af6d_row6_col7 {\n",
              "  background-color: #faf2f8;\n",
              "  color: #000000;\n",
              "}\n",
              "#T_9af6d_row5_col1 {\n",
              "  background-color: #e6e2ef;\n",
              "  color: #000000;\n",
              "}\n",
              "#T_9af6d_row6_col1 {\n",
              "  background-color: #e0dded;\n",
              "  color: #000000;\n",
              "}\n",
              "#T_9af6d_row6_col2 {\n",
              "  background-color: #f0eaf4;\n",
              "  color: #000000;\n",
              "}\n",
              "#T_9af6d_row6_col4 {\n",
              "  background-color: #e7e3f0;\n",
              "  color: #000000;\n",
              "}\n",
              "#T_9af6d_row6_col5 {\n",
              "  background-color: #f8f1f8;\n",
              "  color: #000000;\n",
              "}\n",
              "#T_9af6d_row7_col1 {\n",
              "  background-color: #cdd0e5;\n",
              "  color: #000000;\n",
              "}\n",
              "#T_9af6d_row7_col5 {\n",
              "  background-color: #f2ecf5;\n",
              "  color: #000000;\n",
              "}\n",
              "</style>\n",
              "<table id=\"T_9af6d_\" class=\"dataframe\">\n",
              "  <thead>\n",
              "    <tr>\n",
              "      <th class=\"blank level0\" >&nbsp;</th>\n",
              "      <th class=\"col_heading level0 col0\" >Pregnancies</th>\n",
              "      <th class=\"col_heading level0 col1\" >Glucose</th>\n",
              "      <th class=\"col_heading level0 col2\" >BloodPressure</th>\n",
              "      <th class=\"col_heading level0 col3\" >SkinThickness</th>\n",
              "      <th class=\"col_heading level0 col4\" >Insulin</th>\n",
              "      <th class=\"col_heading level0 col5\" >BMI</th>\n",
              "      <th class=\"col_heading level0 col6\" >DiabetesPedigreeFunction</th>\n",
              "      <th class=\"col_heading level0 col7\" >Age</th>\n",
              "      <th class=\"col_heading level0 col8\" >Outcome</th>\n",
              "    </tr>\n",
              "  </thead>\n",
              "  <tbody>\n",
              "    <tr>\n",
              "      <th id=\"T_9af6d_level0_row0\" class=\"row_heading level0 row0\" >count</th>\n",
              "      <td id=\"T_9af6d_row0_col0\" class=\"data row0 col0\" >768.000000</td>\n",
              "      <td id=\"T_9af6d_row0_col1\" class=\"data row0 col1\" >768.000000</td>\n",
              "      <td id=\"T_9af6d_row0_col2\" class=\"data row0 col2\" >768.000000</td>\n",
              "      <td id=\"T_9af6d_row0_col3\" class=\"data row0 col3\" >768.000000</td>\n",
              "      <td id=\"T_9af6d_row0_col4\" class=\"data row0 col4\" >768.000000</td>\n",
              "      <td id=\"T_9af6d_row0_col5\" class=\"data row0 col5\" >768.000000</td>\n",
              "      <td id=\"T_9af6d_row0_col6\" class=\"data row0 col6\" >768.000000</td>\n",
              "      <td id=\"T_9af6d_row0_col7\" class=\"data row0 col7\" >768.000000</td>\n",
              "      <td id=\"T_9af6d_row0_col8\" class=\"data row0 col8\" >768.000000</td>\n",
              "    </tr>\n",
              "    <tr>\n",
              "      <th id=\"T_9af6d_level0_row1\" class=\"row_heading level0 row1\" >mean</th>\n",
              "      <td id=\"T_9af6d_row1_col0\" class=\"data row1 col0\" >3.845052</td>\n",
              "      <td id=\"T_9af6d_row1_col1\" class=\"data row1 col1\" >120.894531</td>\n",
              "      <td id=\"T_9af6d_row1_col2\" class=\"data row1 col2\" >69.105469</td>\n",
              "      <td id=\"T_9af6d_row1_col3\" class=\"data row1 col3\" >20.536458</td>\n",
              "      <td id=\"T_9af6d_row1_col4\" class=\"data row1 col4\" >79.799479</td>\n",
              "      <td id=\"T_9af6d_row1_col5\" class=\"data row1 col5\" >31.992578</td>\n",
              "      <td id=\"T_9af6d_row1_col6\" class=\"data row1 col6\" >0.471876</td>\n",
              "      <td id=\"T_9af6d_row1_col7\" class=\"data row1 col7\" >33.240885</td>\n",
              "      <td id=\"T_9af6d_row1_col8\" class=\"data row1 col8\" >0.348958</td>\n",
              "    </tr>\n",
              "    <tr>\n",
              "      <th id=\"T_9af6d_level0_row2\" class=\"row_heading level0 row2\" >std</th>\n",
              "      <td id=\"T_9af6d_row2_col0\" class=\"data row2 col0\" >3.369578</td>\n",
              "      <td id=\"T_9af6d_row2_col1\" class=\"data row2 col1\" >31.972618</td>\n",
              "      <td id=\"T_9af6d_row2_col2\" class=\"data row2 col2\" >19.355807</td>\n",
              "      <td id=\"T_9af6d_row2_col3\" class=\"data row2 col3\" >15.952218</td>\n",
              "      <td id=\"T_9af6d_row2_col4\" class=\"data row2 col4\" >115.244002</td>\n",
              "      <td id=\"T_9af6d_row2_col5\" class=\"data row2 col5\" >7.884160</td>\n",
              "      <td id=\"T_9af6d_row2_col6\" class=\"data row2 col6\" >0.331329</td>\n",
              "      <td id=\"T_9af6d_row2_col7\" class=\"data row2 col7\" >11.760232</td>\n",
              "      <td id=\"T_9af6d_row2_col8\" class=\"data row2 col8\" >0.476951</td>\n",
              "    </tr>\n",
              "    <tr>\n",
              "      <th id=\"T_9af6d_level0_row3\" class=\"row_heading level0 row3\" >min</th>\n",
              "      <td id=\"T_9af6d_row3_col0\" class=\"data row3 col0\" >0.000000</td>\n",
              "      <td id=\"T_9af6d_row3_col1\" class=\"data row3 col1\" >0.000000</td>\n",
              "      <td id=\"T_9af6d_row3_col2\" class=\"data row3 col2\" >0.000000</td>\n",
              "      <td id=\"T_9af6d_row3_col3\" class=\"data row3 col3\" >0.000000</td>\n",
              "      <td id=\"T_9af6d_row3_col4\" class=\"data row3 col4\" >0.000000</td>\n",
              "      <td id=\"T_9af6d_row3_col5\" class=\"data row3 col5\" >0.000000</td>\n",
              "      <td id=\"T_9af6d_row3_col6\" class=\"data row3 col6\" >0.078000</td>\n",
              "      <td id=\"T_9af6d_row3_col7\" class=\"data row3 col7\" >21.000000</td>\n",
              "      <td id=\"T_9af6d_row3_col8\" class=\"data row3 col8\" >0.000000</td>\n",
              "    </tr>\n",
              "    <tr>\n",
              "      <th id=\"T_9af6d_level0_row4\" class=\"row_heading level0 row4\" >25%</th>\n",
              "      <td id=\"T_9af6d_row4_col0\" class=\"data row4 col0\" >1.000000</td>\n",
              "      <td id=\"T_9af6d_row4_col1\" class=\"data row4 col1\" >99.000000</td>\n",
              "      <td id=\"T_9af6d_row4_col2\" class=\"data row4 col2\" >62.000000</td>\n",
              "      <td id=\"T_9af6d_row4_col3\" class=\"data row4 col3\" >0.000000</td>\n",
              "      <td id=\"T_9af6d_row4_col4\" class=\"data row4 col4\" >0.000000</td>\n",
              "      <td id=\"T_9af6d_row4_col5\" class=\"data row4 col5\" >27.300000</td>\n",
              "      <td id=\"T_9af6d_row4_col6\" class=\"data row4 col6\" >0.243750</td>\n",
              "      <td id=\"T_9af6d_row4_col7\" class=\"data row4 col7\" >24.000000</td>\n",
              "      <td id=\"T_9af6d_row4_col8\" class=\"data row4 col8\" >0.000000</td>\n",
              "    </tr>\n",
              "    <tr>\n",
              "      <th id=\"T_9af6d_level0_row5\" class=\"row_heading level0 row5\" >50%</th>\n",
              "      <td id=\"T_9af6d_row5_col0\" class=\"data row5 col0\" >3.000000</td>\n",
              "      <td id=\"T_9af6d_row5_col1\" class=\"data row5 col1\" >117.000000</td>\n",
              "      <td id=\"T_9af6d_row5_col2\" class=\"data row5 col2\" >72.000000</td>\n",
              "      <td id=\"T_9af6d_row5_col3\" class=\"data row5 col3\" >23.000000</td>\n",
              "      <td id=\"T_9af6d_row5_col4\" class=\"data row5 col4\" >30.500000</td>\n",
              "      <td id=\"T_9af6d_row5_col5\" class=\"data row5 col5\" >32.000000</td>\n",
              "      <td id=\"T_9af6d_row5_col6\" class=\"data row5 col6\" >0.372500</td>\n",
              "      <td id=\"T_9af6d_row5_col7\" class=\"data row5 col7\" >29.000000</td>\n",
              "      <td id=\"T_9af6d_row5_col8\" class=\"data row5 col8\" >0.000000</td>\n",
              "    </tr>\n",
              "    <tr>\n",
              "      <th id=\"T_9af6d_level0_row6\" class=\"row_heading level0 row6\" >75%</th>\n",
              "      <td id=\"T_9af6d_row6_col0\" class=\"data row6 col0\" >6.000000</td>\n",
              "      <td id=\"T_9af6d_row6_col1\" class=\"data row6 col1\" >140.250000</td>\n",
              "      <td id=\"T_9af6d_row6_col2\" class=\"data row6 col2\" >80.000000</td>\n",
              "      <td id=\"T_9af6d_row6_col3\" class=\"data row6 col3\" >32.000000</td>\n",
              "      <td id=\"T_9af6d_row6_col4\" class=\"data row6 col4\" >127.250000</td>\n",
              "      <td id=\"T_9af6d_row6_col5\" class=\"data row6 col5\" >36.600000</td>\n",
              "      <td id=\"T_9af6d_row6_col6\" class=\"data row6 col6\" >0.626250</td>\n",
              "      <td id=\"T_9af6d_row6_col7\" class=\"data row6 col7\" >41.000000</td>\n",
              "      <td id=\"T_9af6d_row6_col8\" class=\"data row6 col8\" >1.000000</td>\n",
              "    </tr>\n",
              "    <tr>\n",
              "      <th id=\"T_9af6d_level0_row7\" class=\"row_heading level0 row7\" >max</th>\n",
              "      <td id=\"T_9af6d_row7_col0\" class=\"data row7 col0\" >17.000000</td>\n",
              "      <td id=\"T_9af6d_row7_col1\" class=\"data row7 col1\" >199.000000</td>\n",
              "      <td id=\"T_9af6d_row7_col2\" class=\"data row7 col2\" >122.000000</td>\n",
              "      <td id=\"T_9af6d_row7_col3\" class=\"data row7 col3\" >99.000000</td>\n",
              "      <td id=\"T_9af6d_row7_col4\" class=\"data row7 col4\" >846.000000</td>\n",
              "      <td id=\"T_9af6d_row7_col5\" class=\"data row7 col5\" >67.100000</td>\n",
              "      <td id=\"T_9af6d_row7_col6\" class=\"data row7 col6\" >2.420000</td>\n",
              "      <td id=\"T_9af6d_row7_col7\" class=\"data row7 col7\" >81.000000</td>\n",
              "      <td id=\"T_9af6d_row7_col8\" class=\"data row7 col8\" >1.000000</td>\n",
              "    </tr>\n",
              "  </tbody>\n",
              "</table>\n"
            ]
          },
          "metadata": {},
          "execution_count": 9
        }
      ]
    },
    {
      "cell_type": "code",
      "source": [
        "df.nunique()"
      ],
      "metadata": {
        "colab": {
          "base_uri": "https://localhost:8080/"
        },
        "id": "wGq4xqC4Hm1t",
        "outputId": "0706441d-8f4e-4e64-a440-e91b8a5099f5"
      },
      "execution_count": 10,
      "outputs": [
        {
          "output_type": "execute_result",
          "data": {
            "text/plain": [
              "Pregnancies                  17\n",
              "Glucose                     136\n",
              "BloodPressure                47\n",
              "SkinThickness                51\n",
              "Insulin                     186\n",
              "BMI                         248\n",
              "DiabetesPedigreeFunction    517\n",
              "Age                          52\n",
              "Outcome                       2\n",
              "dtype: int64"
            ]
          },
          "metadata": {},
          "execution_count": 10
        }
      ]
    },
    {
      "cell_type": "code",
      "source": [
        "df.isnull().sum()"
      ],
      "metadata": {
        "colab": {
          "base_uri": "https://localhost:8080/"
        },
        "id": "PZtWYpdiHm45",
        "outputId": "fcbc5f64-4357-4aef-beaa-292a1937cb73"
      },
      "execution_count": 12,
      "outputs": [
        {
          "output_type": "execute_result",
          "data": {
            "text/plain": [
              "Pregnancies                 0\n",
              "Glucose                     0\n",
              "BloodPressure               0\n",
              "SkinThickness               0\n",
              "Insulin                     0\n",
              "BMI                         0\n",
              "DiabetesPedigreeFunction    0\n",
              "Age                         0\n",
              "Outcome                     0\n",
              "dtype: int64"
            ]
          },
          "metadata": {},
          "execution_count": 12
        }
      ]
    },
    {
      "cell_type": "code",
      "source": [
        "df.info()"
      ],
      "metadata": {
        "colab": {
          "base_uri": "https://localhost:8080/"
        },
        "id": "AKP0jlhkH_SK",
        "outputId": "bac024e4-eb15-4cb7-803f-dc9c5350dd02"
      },
      "execution_count": 14,
      "outputs": [
        {
          "output_type": "stream",
          "name": "stdout",
          "text": [
            "<class 'pandas.core.frame.DataFrame'>\n",
            "RangeIndex: 768 entries, 0 to 767\n",
            "Data columns (total 9 columns):\n",
            " #   Column                    Non-Null Count  Dtype  \n",
            "---  ------                    --------------  -----  \n",
            " 0   Pregnancies               768 non-null    int64  \n",
            " 1   Glucose                   768 non-null    int64  \n",
            " 2   BloodPressure             768 non-null    int64  \n",
            " 3   SkinThickness             768 non-null    int64  \n",
            " 4   Insulin                   768 non-null    int64  \n",
            " 5   BMI                       768 non-null    float64\n",
            " 6   DiabetesPedigreeFunction  768 non-null    float64\n",
            " 7   Age                       768 non-null    int64  \n",
            " 8   Outcome                   768 non-null    int64  \n",
            "dtypes: float64(2), int64(7)\n",
            "memory usage: 54.1 KB\n"
          ]
        }
      ]
    },
    {
      "cell_type": "code",
      "source": [
        "plt.figure(figsize=(18, 18))\n",
        "for i, col in enumerate(df.columns):\n",
        "    ax = plt.subplot(4,3, i+1)\n",
        "    sns.boxplot(data=df, x=col, ax=ax,color='green')\n",
        "plt.suptitle('Data distribution of continuous variables')\n",
        "plt.tight_layout()"
      ],
      "metadata": {
        "colab": {
          "base_uri": "https://localhost:8080/",
          "height": 799
        },
        "id": "W9hTfD2UHm8B",
        "outputId": "e5a511b6-5a9f-4548-b37c-e5a13bc62886"
      },
      "execution_count": 15,
      "outputs": [
        {
          "output_type": "display_data",
          "data": {
            "text/plain": [
              "<Figure size 1296x1296 with 9 Axes>"
            ],
            "image/png": "[encoded data removed]"
          },
          "metadata": {
            "needs_background": "light"
          }
        }
      ]
    },
    {
      "cell_type": "code",
      "source": [
        "def outlier_treating(data,var):\n",
        "    df=data.copy()#creating a copy of the data\n",
        "    def outlier_detector(data):#detecting the outliers\n",
        "        outliers=[]\n",
        "        q1=np.percentile(data,25)\n",
        "        q3=np.percentile(data,75)\n",
        "        IQR=q3-q1\n",
        "        lb=q1-(IQR*1.5)\n",
        "        ub=q3+(IQR*1.5)\n",
        "        for i,j in enumerate(data):\n",
        "            if(j<lb or j>ub):\n",
        "                outliers.append(i)\n",
        "        return outliers\n",
        "    for i in var:\n",
        "        out_var=outlier_detector(df[i])#calling outlier_detector function \n",
        "        df.loc[out_var,i]=np.median(df[i])#replacing the outliers to the median\n",
        "    return df"
      ],
      "metadata": {
        "id": "zIUV_bdKHm_Z"
      },
      "execution_count": 16,
      "outputs": []
    },
    {
      "cell_type": "code",
      "source": [
        "var=list(df.columns)"
      ],
      "metadata": {
        "id": "OvaYQy6qHnCl"
      },
      "execution_count": 17,
      "outputs": []
    },
    {
      "cell_type": "code",
      "source": [
        "df=outlier_treating(df,var)"
      ],
      "metadata": {
        "id": "_d5EzEQCIf6W"
      },
      "execution_count": 18,
      "outputs": []
    },
    {
      "cell_type": "code",
      "source": [
        "plt.figure(figsize=(18, 18))\n",
        "for i, col in enumerate(df.columns):\n",
        "    ax = plt.subplot(4,3, i+1)\n",
        "    sns.boxplot(data=df, x=col, ax=ax,color='green')\n",
        "plt.suptitle('Data distribution of continuous variables')\n",
        "plt.tight_layout()"
      ],
      "metadata": {
        "colab": {
          "base_uri": "https://localhost:8080/",
          "height": 799
        },
        "id": "99tmx4LKIix5",
        "outputId": "23caa2e8-2a69-4a97-98e0-8bd280636861"
      },
      "execution_count": 19,
      "outputs": [
        {
          "output_type": "display_data",
          "data": {
            "text/plain": [
              "<Figure size 1296x1296 with 9 Axes>"
            ],
            "image/png": "[encoded data removed]"
          },
          "metadata": {
            "needs_background": "light"
          }
        }
      ]
    },
    {
      "cell_type": "code",
      "source": [
        "plt.figure(figsize=(15,15))\n",
        "sns.heatmap(df.corr(),annot=True,center = 0)\n",
        "plt.show()"
      ],
      "metadata": {
        "colab": {
          "base_uri": "https://localhost:8080/",
          "height": 988
        },
        "id": "BD8kBV3vIpl8",
        "outputId": "43b1d885-5aec-4065-979e-a0297ae9d843"
      },
      "execution_count": 21,
      "outputs": [
        {
          "output_type": "display_data",
          "data": {
            "text/plain": [
              "<Figure size 1080x1080 with 2 Axes>"
            ],
            "image/png": "[encoded data removed]"
          },
          "metadata": {
            "needs_background": "light"
          }
        }
      ]
    },
    {
      "cell_type": "code",
      "source": [
        "X=df.iloc[:,0:-1]\n",
        "y=df.iloc[:,-1]"
      ],
      "metadata": {
        "id": "rfL4jchAIpxz"
      },
      "execution_count": 22,
      "outputs": []
    },
    {
      "cell_type": "code",
      "source": [
        "#Balance the imbalanced data\n",
        "from imblearn.over_sampling import SMOTE"
      ],
      "metadata": {
        "id": "kTcSZ7SeIp5O"
      },
      "execution_count": 25,
      "outputs": []
    },
    {
      "cell_type": "code",
      "source": [
        "sm = SMOTE(sampling_strategy='auto', random_state=42)"
      ],
      "metadata": {
        "id": "cal-LrIvJPEf"
      },
      "execution_count": 26,
      "outputs": []
    },
    {
      "cell_type": "code",
      "source": [
        "X,y=sm.fit_resample(X,y)"
      ],
      "metadata": {
        "id": "4ZfRd1ffJPIO"
      },
      "execution_count": 27,
      "outputs": []
    },
    {
      "cell_type": "code",
      "source": [
        "#Rechecking the balance of data\n",
        "plt.figure(figsize=(12,12))\n",
        "sns.countplot(y)\n",
        "plt.show()"
      ],
      "metadata": {
        "colab": {
          "base_uri": "https://localhost:8080/",
          "height": 768
        },
        "id": "j5YeHdZHJPLs",
        "outputId": "21453ed3-7ab5-43a2-f93e-144e5e578b2c"
      },
      "execution_count": 28,
      "outputs": [
        {
          "output_type": "stream",
          "name": "stderr",
          "text": [
            "/usr/local/lib/python3.7/dist-packages/seaborn/_decorators.py:43: FutureWarning: Pass the following variable as a keyword arg: x. From version 0.12, the only valid positional argument will be `data`, and passing other arguments without an explicit keyword will result in an error or misinterpretation.\n",
            "  FutureWarning\n"
          ]
        },
        {
          "output_type": "display_data",
          "data": {
            "text/plain": [
              "<Figure size 864x864 with 1 Axes>"
            ],
            "image/png": "[encoded data removed]"
          },
          "metadata": {
            "needs_background": "light"
          }
        }
      ]
    },
    {
      "cell_type": "code",
      "source": [
        "from sklearn.feature_selection import SelectKBest\n",
        "from sklearn.feature_selection import f_classif#ANOVA"
      ],
      "metadata": {
        "id": "w6A3eegnJPO_"
      },
      "execution_count": 29,
      "outputs": []
    },
    {
      "cell_type": "code",
      "source": [
        "fs = SelectKBest(score_func=f_classif, k='all')\n",
        "fs.fit(X, y)"
      ],
      "metadata": {
        "colab": {
          "base_uri": "https://localhost:8080/"
        },
        "id": "T_mCZFM6JPSd",
        "outputId": "fa3029d5-4b99-4e3d-adae-56f8d35f1c10"
      },
      "execution_count": 30,
      "outputs": [
        {
          "output_type": "execute_result",
          "data": {
            "text/plain": [
              "SelectKBest(k='all')"
            ]
          },
          "metadata": {},
          "execution_count": 30
        }
      ]
    },
    {
      "cell_type": "code",
      "source": [
        "feature_contribution=(fs.scores_/sum(fs.scores_))*100"
      ],
      "metadata": {
        "id": "k75EkuIiJPV-"
      },
      "execution_count": 31,
      "outputs": []
    },
    {
      "cell_type": "code",
      "source": [
        "for i,j in enumerate(X.columns):\n",
        "    print(f'{j} : {feature_contribution[i]:.2f}%')\n",
        "plt.figure(figsize=(18,8))\n",
        "sns.barplot(x=X.columns,y=fs.scores_)\n",
        "plt.show()"
      ],
      "metadata": {
        "colab": {
          "base_uri": "https://localhost:8080/",
          "height": 607
        },
        "id": "WCfw7yYkJ4df",
        "outputId": "9ca718cf-0805-4bc0-c1e6-9564245e6668"
      },
      "execution_count": 32,
      "outputs": [
        {
          "output_type": "stream",
          "name": "stdout",
          "text": [
            "Pregnancies : 5.27%\n",
            "Glucose : 51.80%\n",
            "BloodPressure : 3.99%\n",
            "SkinThickness : 0.95%\n",
            "Insulin : 1.55%\n",
            "BMI : 19.09%\n",
            "DiabetesPedigreeFunction : 5.18%\n",
            "Age : 12.18%\n"
          ]
        },
        {
          "output_type": "display_data",
          "data": {
            "text/plain": [
              "<Figure size 1296x576 with 1 Axes>"
            ],
            "image/png": "[encoded data removed]"
          },
          "metadata": {
            "needs_background": "light"
          }
        }
      ]
    },
    {
      "cell_type": "code",
      "source": [
        "X1=X[['Pregnancies','Glucose','BMI','DiabetesPedigreeFunction','Age']]"
      ],
      "metadata": {
        "id": "XvbHHg_fJ4iC"
      },
      "execution_count": 33,
      "outputs": []
    },
    {
      "cell_type": "code",
      "source": [
        "#Splitting data\n",
        "from sklearn.model_selection import train_test_split"
      ],
      "metadata": {
        "id": "jTVxfRMSJ4l0"
      },
      "execution_count": 34,
      "outputs": []
    },
    {
      "cell_type": "code",
      "source": [
        "X_train,X_test,y_train,y_test=train_test_split(X1,y,test_size=0.20,stratify=y,random_state=0)"
      ],
      "metadata": {
        "id": "lABFyIcuJ4pi"
      },
      "execution_count": 35,
      "outputs": []
    },
    {
      "cell_type": "code",
      "source": [
        "#Scaling data\n",
        "from sklearn.preprocessing import StandardScaler"
      ],
      "metadata": {
        "id": "qEfI8GOyJ4te"
      },
      "execution_count": 36,
      "outputs": []
    },
    {
      "cell_type": "code",
      "source": [
        "sc=StandardScaler()\n",
        "X_train=sc.fit_transform(X_train)\n",
        "X_test=sc.transform(X_test)"
      ],
      "metadata": {
        "id": "jrPeWelpJ4xj"
      },
      "execution_count": 37,
      "outputs": []
    },
    {
      "cell_type": "code",
      "source": [
        "from sklearn.ensemble import RandomForestClassifier\n",
        "from sklearn.neighbors import KNeighborsClassifier\n",
        "from sklearn.svm import SVC\n",
        "from sklearn.naive_bayes import GaussianNB\n",
        "from sklearn.tree import DecisionTreeClassifier\n",
        "from sklearn.model_selection import cross_val_score\n",
        "from sklearn.metrics import confusion_matrix, accuracy_score,f1_score\n",
        "from sklearn.metrics import classification_report\n",
        "from xgboost import XGBClassifier"
      ],
      "metadata": {
        "id": "wRrJxADCJ41a"
      },
      "execution_count": 38,
      "outputs": []
    },
    {
      "cell_type": "code",
      "source": [
        "model_acc={}"
      ],
      "metadata": {
        "id": "uTKRgOTBLDXB"
      },
      "execution_count": 39,
      "outputs": []
    },
    {
      "cell_type": "code",
      "source": [
        "#Random forest\n",
        "classifier1=RandomForestClassifier(n_estimators = 10, criterion = 'entropy', random_state = 0)\n",
        "classifier1.fit(X_train,y_train)\n",
        "y_pred=classifier1.predict(X_test)\n",
        "accuracies = cross_val_score(estimator = classifier1, X = X_train, y = y_train, cv = 5)\n",
        "print(\"Cross Val Accuracy: {:.2f} %\".format(accuracies.mean()*100))\n",
        "print(\"Cross Val Standard Deviation: {:.2f} %\".format(accuracies.std()*100))\n",
        "print(classification_report(y_pred,y_test,zero_division=1))\n",
        "model_acc['Random Forest']=[accuracy_score(y_pred,y_test),f1_score(y_pred,y_test,average='weighted'),(accuracies.mean()),(accuracies.std())]"
      ],
      "metadata": {
        "colab": {
          "base_uri": "https://localhost:8080/"
        },
        "id": "9wuhghmiJ45a",
        "outputId": "48403464-adfd-4dcc-ad35-827beba16907"
      },
      "execution_count": 45,
      "outputs": [
        {
          "output_type": "stream",
          "name": "stdout",
          "text": [
            "Cross Val Accuracy: 77.25 %\n",
            "Cross Val Standard Deviation: 2.97 %\n",
            "              precision    recall  f1-score   support\n",
            "\n",
            "           0       0.80      0.76      0.78       105\n",
            "           1       0.75      0.79      0.77        95\n",
            "\n",
            "    accuracy                           0.78       200\n",
            "   macro avg       0.78      0.78      0.77       200\n",
            "weighted avg       0.78      0.78      0.78       200\n",
            "\n"
          ]
        }
      ]
    },
    {
      "cell_type": "code",
      "source": [
        "#XGBoost\n",
        "classifier2 = XGBClassifier()\n",
        "classifier2.fit(X_train,y_train)\n",
        "y_pred=classifier2.predict(X_test)\n",
        "accuracies = cross_val_score(estimator = classifier2, X = X_train, y = y_train, cv = 5)\n",
        "print(\"Cross Val Accuracy: {:.2f} %\".format(accuracies.mean()*100))\n",
        "print(\"Cross Val Standard Deviation: {:.2f} %\".format(accuracies.std()*100))\n",
        "print(classification_report(y_pred,y_test,zero_division=1))\n",
        "model_acc['Xg Boost']=[accuracy_score(y_pred,y_test),f1_score(y_pred,y_test,average='weighted'),(accuracies.mean()),(accuracies.std())]"
      ],
      "metadata": {
        "colab": {
          "base_uri": "https://localhost:8080/"
        },
        "id": "c7c52z2CLOgj",
        "outputId": "2b401dee-921e-4e3e-8c74-3eefd4ada5b6"
      },
      "execution_count": 46,
      "outputs": [
        {
          "output_type": "stream",
          "name": "stdout",
          "text": [
            "Cross Val Accuracy: 77.62 %\n",
            "Cross Val Standard Deviation: 2.38 %\n",
            "              precision    recall  f1-score   support\n",
            "\n",
            "           0       0.78      0.79      0.78        99\n",
            "           1       0.79      0.78      0.79       101\n",
            "\n",
            "    accuracy                           0.79       200\n",
            "   macro avg       0.79      0.79      0.78       200\n",
            "weighted avg       0.79      0.79      0.79       200\n",
            "\n"
          ]
        }
      ]
    },
    {
      "cell_type": "code",
      "source": [
        "#SVC\n",
        "classifier3=SVC(kernel = 'linear', random_state = 0)\n",
        "classifier3.fit(X_train,y_train)\n",
        "y_pred=classifier3.predict(X_test)\n",
        "accuracies = cross_val_score(estimator = classifier3, X = X_train, y = y_train, cv = 5)\n",
        "print(\"Cross Val Accuracy: {:.2f} %\".format(accuracies.mean()*100))\n",
        "print(\"Cross Val Standard Deviation: {:.2f} %\".format(accuracies.std()*100))\n",
        "print(classification_report(y_pred,y_test,zero_division=1))\n",
        "model_acc['Support Vector Classifier']=[accuracy_score(y_pred,y_test),f1_score(y_pred,y_test,average='weighted'),(accuracies.mean()),(accuracies.std())]"
      ],
      "metadata": {
        "colab": {
          "base_uri": "https://localhost:8080/"
        },
        "id": "oXDyF8qQLOsA",
        "outputId": "dfaac17d-20e7-4697-dead-44262ffdf562"
      },
      "execution_count": 47,
      "outputs": [
        {
          "output_type": "stream",
          "name": "stdout",
          "text": [
            "Cross Val Accuracy: 73.38 %\n",
            "Cross Val Standard Deviation: 4.30 %\n",
            "              precision    recall  f1-score   support\n",
            "\n",
            "           0       0.79      0.73      0.76       108\n",
            "           1       0.71      0.77      0.74        92\n",
            "\n",
            "    accuracy                           0.75       200\n",
            "   macro avg       0.75      0.75      0.75       200\n",
            "weighted avg       0.75      0.75      0.75       200\n",
            "\n"
          ]
        }
      ]
    },
    {
      "cell_type": "code",
      "source": [
        "#KNN\n",
        "classifier4=KNeighborsClassifier()\n",
        "classifier4.fit(X_train,y_train)\n",
        "y_pred=classifier4.predict(X_test)\n",
        "accuracies = cross_val_score(estimator = classifier4, X = X_train, y = y_train, cv = 5)\n",
        "print(\"Cross Val Accuracy: {:.2f} %\".format(accuracies.mean()*100))\n",
        "print(\"Cross Val Standard Deviation: {:.2f} %\".format(accuracies.std()*100))\n",
        "print(classification_report(y_pred,y_test,zero_division=1))\n",
        "model_acc['KNN']=[accuracy_score(y_pred,y_test),f1_score(y_pred,y_test,average='weighted'),(accuracies.mean()),(accuracies.std())]"
      ],
      "metadata": {
        "colab": {
          "base_uri": "https://localhost:8080/"
        },
        "id": "UlXgfTAJLOx1",
        "outputId": "6692f4fd-edea-4f05-8bad-e36695e9e53e"
      },
      "execution_count": 48,
      "outputs": [
        {
          "output_type": "stream",
          "name": "stdout",
          "text": [
            "Cross Val Accuracy: 76.25 %\n",
            "Cross Val Standard Deviation: 3.45 %\n",
            "              precision    recall  f1-score   support\n",
            "\n",
            "           0       0.78      0.81      0.80        96\n",
            "           1       0.82      0.79      0.80       104\n",
            "\n",
            "    accuracy                           0.80       200\n",
            "   macro avg       0.80      0.80      0.80       200\n",
            "weighted avg       0.80      0.80      0.80       200\n",
            "\n"
          ]
        }
      ]
    },
    {
      "cell_type": "code",
      "source": [
        "#Model Accuracy\n",
        "Model_com_df=pd.DataFrame(model_acc).T\n",
        "Model_com_df.columns=['Model Accuracy','Model F1-Score','CV Accuracy','CV std']\n",
        "Model_com_df=Model_com_df.sort_values(by='Model F1-Score',ascending=False)\n",
        "Model_com_df.style.format(\"{:.2%}\").background_gradient(cmap='Blues')"
      ],
      "metadata": {
        "colab": {
          "base_uri": "https://localhost:8080/",
          "height": 173
        },
        "id": "6jEnzv92LO2G",
        "outputId": "b0a300e2-3216-4f39-d528-4206c92160e4"
      },
      "execution_count": 44,
      "outputs": [
        {
          "output_type": "execute_result",
          "data": {
            "text/plain": [
              "<pandas.io.formats.style.Styler at 0x7f79b93b7210>"
            ],
            "text/html": [
              "<style type=\"text/css\">\n",
              "#T_65eb8_row0_col0, #T_65eb8_row0_col1, #T_65eb8_row1_col2, #T_65eb8_row3_col3 {\n",
              "  background-color: #08306b;\n",
              "  color: #f1f1f1;\n",
              "}\n",
              "#T_65eb8_row0_col2 {\n",
              "  background-color: #3484bf;\n",
              "  color: #f1f1f1;\n",
              "}\n",
              "#T_65eb8_row0_col3 {\n",
              "  background-color: #5aa2cf;\n",
              "  color: #f1f1f1;\n",
              "}\n",
              "#T_65eb8_row1_col0 {\n",
              "  background-color: #2e7ebc;\n",
              "  color: #f1f1f1;\n",
              "}\n",
              "#T_65eb8_row1_col1 {\n",
              "  background-color: #2f7fbc;\n",
              "  color: #f1f1f1;\n",
              "}\n",
              "#T_65eb8_row1_col3, #T_65eb8_row3_col0, #T_65eb8_row3_col1, #T_65eb8_row3_col2 {\n",
              "  background-color: #f7fbff;\n",
              "  color: #000000;\n",
              "}\n",
              "#T_65eb8_row2_col0 {\n",
              "  background-color: #6aaed6;\n",
              "  color: #f1f1f1;\n",
              "}\n",
              "#T_65eb8_row2_col1 {\n",
              "  background-color: #6caed6;\n",
              "  color: #f1f1f1;\n",
              "}\n",
              "#T_65eb8_row2_col2 {\n",
              "  background-color: #08478d;\n",
              "  color: #f1f1f1;\n",
              "}\n",
              "#T_65eb8_row2_col3 {\n",
              "  background-color: #b4d3e9;\n",
              "  color: #000000;\n",
              "}\n",
              "</style>\n",
              "<table id=\"T_65eb8_\" class=\"dataframe\">\n",
              "  <thead>\n",
              "    <tr>\n",
              "      <th class=\"blank level0\" >&nbsp;</th>\n",
              "      <th class=\"col_heading level0 col0\" >Model Accuracy</th>\n",
              "      <th class=\"col_heading level0 col1\" >Model F1-Score</th>\n",
              "      <th class=\"col_heading level0 col2\" >CV Accuracy</th>\n",
              "      <th class=\"col_heading level0 col3\" >CV std</th>\n",
              "    </tr>\n",
              "  </thead>\n",
              "  <tbody>\n",
              "    <tr>\n",
              "      <th id=\"T_65eb8_level0_row0\" class=\"row_heading level0 row0\" >KNN</th>\n",
              "      <td id=\"T_65eb8_row0_col0\" class=\"data row0 col0\" >80.00%</td>\n",
              "      <td id=\"T_65eb8_row0_col1\" class=\"data row0 col1\" >80.01%</td>\n",
              "      <td id=\"T_65eb8_row0_col2\" class=\"data row0 col2\" >76.25%</td>\n",
              "      <td id=\"T_65eb8_row0_col3\" class=\"data row0 col3\" >3.45%</td>\n",
              "    </tr>\n",
              "    <tr>\n",
              "      <th id=\"T_65eb8_level0_row1\" class=\"row_heading level0 row1\" >Xg Boost</th>\n",
              "      <td id=\"T_65eb8_row1_col0\" class=\"data row1 col0\" >78.50%</td>\n",
              "      <td id=\"T_65eb8_row1_col1\" class=\"data row1 col1\" >78.50%</td>\n",
              "      <td id=\"T_65eb8_row1_col2\" class=\"data row1 col2\" >77.62%</td>\n",
              "      <td id=\"T_65eb8_row1_col3\" class=\"data row1 col3\" >2.38%</td>\n",
              "    </tr>\n",
              "    <tr>\n",
              "      <th id=\"T_65eb8_level0_row2\" class=\"row_heading level0 row2\" >Random Forest</th>\n",
              "      <td id=\"T_65eb8_row2_col0\" class=\"data row2 col0\" >77.50%</td>\n",
              "      <td id=\"T_65eb8_row2_col1\" class=\"data row2 col1\" >77.51%</td>\n",
              "      <td id=\"T_65eb8_row2_col2\" class=\"data row2 col2\" >77.25%</td>\n",
              "      <td id=\"T_65eb8_row2_col3\" class=\"data row2 col3\" >2.97%</td>\n",
              "    </tr>\n",
              "    <tr>\n",
              "      <th id=\"T_65eb8_level0_row3\" class=\"row_heading level0 row3\" >Support Vector Classifier</th>\n",
              "      <td id=\"T_65eb8_row3_col0\" class=\"data row3 col0\" >75.00%</td>\n",
              "      <td id=\"T_65eb8_row3_col1\" class=\"data row3 col1\" >75.04%</td>\n",
              "      <td id=\"T_65eb8_row3_col2\" class=\"data row3 col2\" >73.38%</td>\n",
              "      <td id=\"T_65eb8_row3_col3\" class=\"data row3 col3\" >4.30%</td>\n",
              "    </tr>\n",
              "  </tbody>\n",
              "</table>\n"
            ]
          },
          "metadata": {},
          "execution_count": 44
        }
      ]
    },
    {
      "cell_type": "code",
      "source": [
        "input_data = (5,166,25.8,0.587,51)\n",
        "\n",
        "# changing the input_data to numpy array\n",
        "input_data_as_numpy_array = np.asarray(input_data)\n",
        "\n",
        "# reshape the array as we are predicting for one instance\n",
        "input_data_reshaped = input_data_as_numpy_array.reshape(1,-1)\n",
        "\n",
        "prediction = classifier4.predict(input_data_reshaped)\n",
        "print(prediction)\n",
        "\n",
        "if (prediction[0] == 0):\n",
        "  print('The person is not diabetic')\n",
        "else:\n",
        "  print('The person is diabetic')"
      ],
      "metadata": {
        "colab": {
          "base_uri": "https://localhost:8080/"
        },
        "id": "XeP7DSzMLO6R",
        "outputId": "7f77d6bf-b18e-4ea2-91a4-2b405b586c02"
      },
      "execution_count": 49,
      "outputs": [
        {
          "output_type": "stream",
          "name": "stdout",
          "text": [
            "[1]\n",
            "The person is diabetic\n"
          ]
        }
      ]
    },
    {
      "cell_type": "code",
      "source": [
        "#Saving model\n",
        "import pickle"
      ],
      "metadata": {
        "id": "Po3MYcx4LO-l"
      },
      "execution_count": 51,
      "outputs": []
    },
    {
      "cell_type": "code",
      "source": [
        "filename = 'diabetes_model.sav'\n",
        "pickle.dump(classifier4, open(filename, 'wb'))"
      ],
      "metadata": {
        "id": "fzGJn_w-M_hV"
      },
      "execution_count": 52,
      "outputs": []
    },
    {
      "cell_type": "code",
      "source": [
        "# loading the saved model\n",
        "loaded_model = pickle.load(open('diabetes_model.sav', 'rb'))"
      ],
      "metadata": {
        "id": "TmYmb9C-NEl6"
      },
      "execution_count": 53,
      "outputs": []
    },
    {
      "cell_type": "code",
      "source": [
        "input_data = (5,166,25.8,0.587,51)\n",
        "\n",
        "# changing the input_data to numpy array\n",
        "input_data_as_numpy_array = np.asarray(input_data)\n",
        "\n",
        "# reshape the array as we are predicting for one instance\n",
        "input_data_reshaped = input_data_as_numpy_array.reshape(1,-1)\n",
        "\n",
        "prediction = loaded_model.predict(input_data_reshaped)\n",
        "print(prediction)\n",
        "\n",
        "if (prediction[0] == 0):\n",
        "  print('The person is not diabetic')\n",
        "else:\n",
        "  print('The person is diabetic')"
      ],
      "metadata": {
        "colab": {
          "base_uri": "https://localhost:8080/"
        },
        "id": "h6kTKirSNErK",
        "outputId": "c67f1054-3fcf-47bc-cf35-d216bb43ce5a"
      },
      "execution_count": 54,
      "outputs": [
        {
          "output_type": "stream",
          "name": "stdout",
          "text": [
            "[1]\n",
            "The person is diabetic\n"
          ]
        }
      ]
    },
    {
      "cell_type": "code",
      "source": [],
      "metadata": {
        "id": "7krirZgWNE1S"
      },
      "execution_count": null,
      "outputs": []
    }
  ]
}